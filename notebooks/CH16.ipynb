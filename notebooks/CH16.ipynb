{
 "cells": [
  {
   "cell_type": "code",
   "execution_count": 1,
   "metadata": {},
   "outputs": [],
   "source": [
    "import os\n",
    "import numpy as np\n",
    "import matplotlib.pylab as plt\n",
    "import tensorflow as tf\n",
    "%matplotlib inline\n",
    "%config InlineBackend.figure_format = 'retina'"
   ]
  },
  {
   "cell_type": "code",
   "execution_count": 2,
   "metadata": {},
   "outputs": [],
   "source": [
    "plt.rcParams['figure.figsize'] = (16./3, 9./3)\n",
    "\n",
    "def visualize_l2(pred, x_train, y_train, x_test, y_test):\n",
    "    from matplotlib.patches import Rectangle\n",
    "    plt.plot(x_train, y_train, '.k', markerfacecolor='none', label='Train Data')\n",
    "    plt.plot(x_train, pred,  '--k', label='Model')\n",
    "    plt.plot(x_test, y_test, 'xk', markersize=3, markerfacecolor='none', label='Test Data')\n",
    "    currentAxis = plt.gca()\n",
    "    for k, (xx,yy) in enumerate(zip(x_train, y_train)):\n",
    "        error = pred[k] - yy\n",
    "        currentAxis.add_patch(Rectangle((xx, yy), \n",
    "                                        error, error,\n",
    "                              alpha=0.1, facecolor='gray', edgecolor='k'))\n",
    "    plt.grid()\n",
    "    plt.legend()\n",
    "    plt.axis('equal')\n",
    "    plt.xlabel('x')\n",
    "    plt.ylabel('y')"
   ]
  },
  {
   "cell_type": "code",
   "execution_count": 3,
   "metadata": {},
   "outputs": [],
   "source": [
    "# 데이터 생성\n",
    "np.random.seed(327)\n",
    "x_train = np.linspace(-1,1,50)\n",
    "y_train = x_train**3 + 0.1 * x_train**2 -0.15 * x_train + 1.0 + 0.5 * np.random.rand(len(x_train))\n",
    "x_test = np.linspace(-1,1,50)\n",
    "y_test = x_test**3 + 0.1 * x_test**2 -0.15 * x_test + 1.0 + 0.5 * np.random.rand(len(x_test))\n",
    "\n",
    "# 특성값 정의\n",
    "features_train = np.array([[xval] for xval in x_train])\n",
    "labels_train = y_train.reshape(-1, 1)\n",
    "features_test = np.array([[xval] for xval in x_test])\n",
    "labels_test = y_test.reshape(-1, 1)"
   ]
  },
  {
   "cell_type": "code",
   "execution_count": 4,
   "metadata": {},
   "outputs": [],
   "source": [
    "# Regularization에 사용될 상수\n",
    "beta = 1E-5\n",
    "\n",
    "num_hidden1 = 10\n",
    "num_hidden2 = 5\n",
    "\n",
    "# 입력층\n",
    "x = tf.placeholder(tf.float32, shape=[None, 1])\n",
    "\n",
    "with tf.variable_scope('TF_API'):\n",
    "    # 은닉층 1\n",
    "    hidden1 =  tf.contrib.layers.fully_connected(x, num_hidden1,\n",
    "                                              activation_fn=tf.nn.sigmoid,\n",
    "                                              weights_initializer=tf.random_normal_initializer(seed=624),\n",
    "                                              biases_initializer=tf.random_normal_initializer(seed=624),\n",
    "                                              weights_regularizer=tf.contrib.layers.l2_regularizer(beta))\n",
    "\n",
    "    # 은닉층 2\n",
    "    hidden2 =  tf.contrib.layers.fully_connected(hidden1, num_hidden2,\n",
    "                                              activation_fn=tf.nn.sigmoid,\n",
    "                                              weights_initializer=tf.random_normal_initializer(seed=624),\n",
    "                                              biases_initializer=tf.random_normal_initializer(seed=624),\n",
    "                                              weights_regularizer=tf.contrib.layers.l2_regularizer(beta))\n",
    "\n",
    "\n",
    "    # 출력층\n",
    "    yhat =  tf.contrib.layers.fully_connected(hidden2, 1,\n",
    "                                              activation_fn=None,\n",
    "                                              weights_initializer=tf.random_normal_initializer(seed=624),\n",
    "                                              biases_initializer=tf.random_normal_initializer(seed=624),\n",
    "                                              weights_regularizer=tf.contrib.layers.l2_regularizer(beta))\n",
    "\n",
    "# Regularization Term\n",
    "reg_ws = tf.get_collection(tf.GraphKeys.REGULARIZATION_LOSSES, 'TF_API')\n",
    "\n",
    "# 손실함수\n",
    "y = tf.placeholder(tf.float32, shape=[None, 1])\n",
    "loss = tf.losses.mean_squared_error(y, yhat) + tf.reduce_sum(reg_ws)"
   ]
  },
  {
   "cell_type": "code",
   "execution_count": 5,
   "metadata": {},
   "outputs": [],
   "source": [
    "# Saver 함수\n",
    "saver = tf.train.Saver()"
   ]
  },
  {
   "cell_type": "code",
   "execution_count": null,
   "metadata": {},
   "outputs": [],
   "source": [
    "# 수치최적화 알고리즘\n",
    "MaxEpoch = 4000\n",
    "lr = 0.1\n",
    "batch_size = 10\n",
    "optimizer = tf.train.AdamOptimizer(lr)\n",
    "train = optimizer.minimize(loss)\n",
    "\n",
    "# 데이터 섞기\n",
    "np.random.seed(320)\n",
    "shuffled_id = np.arange(0, len(x_train))\n",
    "np.random.shuffle(shuffled_id)\n",
    "shuffled_x_train = features_train[shuffled_id]\n",
    "shuffled_y_train = labels_train[shuffled_id]\n",
    "\n",
    "# 스토캐스틱 방법\n",
    "from helper import generate_batches\n",
    "init = tf.global_variables_initializer()\n",
    "with tf.Session() as sess:\n",
    "    sess.run(init)\n",
    "    for epoch in range(MaxEpoch+1):\n",
    "        for x_batch, y_batch in generate_batches(batch_size, shuffled_x_train, shuffled_y_train):\n",
    "            sess.run(train, feed_dict={x:x_batch, y:y_batch})\n",
    "    \n",
    "    # 모델 저장하기\n",
    "    saver.save(sess, './checkpoints/nn_regression_model.ckpt')\n",
    "    \n",
    "    #그리기\n",
    "    pred = sess.run(yhat, feed_dict={x:features_train, y:labels_train})\n",
    "    visualize_l2(pred, x_train, y_train, x_test, y_test)\n",
    "    plt.show()"
   ]
  },
  {
   "cell_type": "code",
   "execution_count": null,
   "metadata": {},
   "outputs": [],
   "source": [
    "with tf.Session() as sess:\n",
    "    sess.run(init)\n",
    "    saver.restore(sess, './checkpoints/nn_regression_model.ckpt')\n",
    "    \n",
    "    pred = sess.run(yhat, feed_dict={x:features_train, y:labels_train})\n",
    "    visualize_l2(pred, x_train, y_train, x_test, y_test)\n",
    "    plt.show()"
   ]
  },
  {
   "cell_type": "code",
   "execution_count": null,
   "metadata": {},
   "outputs": [],
   "source": [
    "plt.rcParams['figure.figsize'] = (16./3, 9./3)\n",
    "\n",
    "def plot_model(sess, model, xy, labels, xy_test, labels_test, feature_lambda, title=''):\n",
    "    from pandas import DataFrame\n",
    "    xx, yy = np.meshgrid(np.linspace(-1.2,1.2,400), np.linspace(-1.2,1.2,400))\n",
    "    prediction = sess.run(model, feed_dict={x: np.array([feature_lambda(xxval, yyval) for xxval, yyval in zip(xx.flatten(), yy.flatten())])})\n",
    "    Z = prediction.reshape(xx.shape)\n",
    "    df = DataFrame(dict(x=xy[:,0], y=xy[:,1], label=labels.flatten()))\n",
    "    markers = {0:'bs', 1:'r^'}\n",
    "    _, ax = plt.subplots(figsize=(5, 5))\n",
    "    predictions = sess.run(model, feed_dict={x: xy})\n",
    "    for k, xy0 in df[['x', 'y']].iterrows():\n",
    "        x0, y0 = xy0.values\n",
    "        plt.plot(x0, y0, markers[labels[k][0]], mec='k')\n",
    "        \n",
    "    df = DataFrame(dict(x=xy_test[:,0], y=xy_test[:,1], label=labels_test.flatten()))\n",
    "    markers = {0:'bs', 1:'r^'}\n",
    "    cs = ax.contourf(xx, yy, Z, 20, cmap='coolwarm', alpha=.9)\n",
    "    ax.clabel(cs, colors='gray')\n",
    "    cs = ax.contour(xx, yy, Z, cmap='gray', levels=[0, 0.5, 1.0], linestyles='--', linewidths=2)\n",
    "    ax.clabel(cs, colors='k')\n",
    "    predictions = sess.run(model, feed_dict={x: xy})\n",
    "    for k, xy0 in df[['x', 'y']].iterrows():\n",
    "        x0, y0 = xy0.values\n",
    "        plt.plot(x0, y0, markers[labels[k][0]], mec='none')\n",
    "        \n",
    "    ax.set_xlim([-1.1, 1.1])\n",
    "    ax.set_ylim([-1.1, 1.1])\n",
    "    plt.grid(linestyle='--', alpha=0.5)\n",
    "    plt.title(title)\n",
    "    plt.show()"
   ]
  },
  {
   "cell_type": "code",
   "execution_count": null,
   "metadata": {},
   "outputs": [],
   "source": [
    "from sklearn.datasets import make_circles\n",
    "\n",
    "# 학습용 데이터 생성\n",
    "xy_train, labels_train = make_circles(n_samples=50, noise=0.1, random_state=717)\n",
    "labels_train = labels_train.reshape(-1,1)\n",
    "\n",
    "# 테스트용 데이터 생성\n",
    "xy_test, labels_test = make_circles(n_samples=50, noise=0.1, random_state=712)\n",
    "labels_test = labels_test.reshape(-1,1)"
   ]
  },
  {
   "cell_type": "code",
   "execution_count": null,
   "metadata": {},
   "outputs": [],
   "source": [
    "# 특성값 추출\n",
    "f_fn = lambda x,y: [x, y]\n",
    "features = np.array([f_fn(xval, yval) for xval, yval in xy_train])\n",
    "features_test = np.array([f_fn(xval, yval) for xval, yval in xy_test])\n",
    "dim_features = features.shape[1]\n",
    "\n",
    "# 예측모델\n",
    "num_hidden1 = 10\n",
    "num_hidden2 = 5\n",
    "\n",
    "# 입력층\n",
    "x = tf.placeholder(tf.float32, shape=(None, dim_features))\n",
    "\n",
    "# 은닉층 1\n",
    "hidden1 =  tf.contrib.layers.fully_connected(x, num_hidden1,\n",
    "                                          activation_fn=tf.nn.sigmoid,\n",
    "                                          weights_initializer=tf.random_normal_initializer(seed=624),\n",
    "                                          biases_initializer=tf.random_normal_initializer(seed=624))\n",
    "\n",
    "# 은닉층 2\n",
    "hidden2 =  tf.contrib.layers.fully_connected(hidden1, num_hidden2,\n",
    "                                          activation_fn=tf.nn.sigmoid,\n",
    "                                          weights_initializer=tf.random_normal_initializer(seed=624),\n",
    "                                          biases_initializer=tf.random_normal_initializer(seed=624))\n",
    "\n",
    "# 출력층\n",
    "yhat =  tf.contrib.layers.fully_connected(hidden2, 1,\n",
    "                                          activation_fn=tf.nn.sigmoid,\n",
    "                                          weights_initializer=tf.random_normal_initializer(seed=624),\n",
    "                                          biases_initializer=tf.random_normal_initializer(seed=624))"
   ]
  },
  {
   "cell_type": "code",
   "execution_count": null,
   "metadata": {},
   "outputs": [],
   "source": [
    "# 손실함수\n",
    "y = tf.placeholder(tf.float32, shape=(None, 1))\n",
    "loss = tf.reduce_mean(-y * tf.log(yhat) - (1-y) * tf.log(1-yhat))\n",
    "\n",
    "# 정확도\n",
    "correct_prediction = tf.equal(y, tf.round(yhat))\n",
    "accuracy = tf.reduce_mean(tf.cast(correct_prediction, tf.float32))"
   ]
  },
  {
   "cell_type": "code",
   "execution_count": null,
   "metadata": {},
   "outputs": [],
   "source": [
    "saver = tf.train.Saver(max_to_keep=40)\n",
    "\n",
    "# 수치최적화 알고리즘\n",
    "lr = 0.5\n",
    "optimizer = tf.train.GradientDescentOptimizer(lr)\n",
    "train = optimizer.minimize(loss)\n",
    "\n",
    "from helper import generate_batches\n",
    "# 데이터 섞기\n",
    "np.random.seed(7382)\n",
    "idx = np.arange(0, len(features))\n",
    "np.random.shuffle(idx)\n",
    "shuffled_features = features[idx]\n",
    "shuffled_labels = labels_train[idx]\n",
    "\n",
    "# Log Step\n",
    "it = 0\n",
    "\n",
    "# 스토캐스틱 방법\n",
    "MaxEpochs = 4000\n",
    "batch_size = 10\n",
    "init = tf.global_variables_initializer()\n",
    "sess = tf.Session()\n",
    "sess.run(init)\n",
    "for epoch in range(MaxEpochs+1):\n",
    "    for x_batch, y_batch in generate_batches(batch_size, shuffled_features, shuffled_labels):\n",
    "        sess.run(train, feed_dict={x: x_batch, y: y_batch.reshape(-1,1)})\n",
    "        \n",
    "    if epoch % 100 == 0:\n",
    "        saver.save(sess, 'checkpoints/nn_binary_classifcation.ckpt', global_step=epoch)"
   ]
  },
  {
   "cell_type": "code",
   "execution_count": null,
   "metadata": {},
   "outputs": [],
   "source": [
    "plot_model(sess, yhat, xy_train, labels_train, xy_test, labels_test, f_fn, 'Epoch={}'.format(epoch))"
   ]
  },
  {
   "cell_type": "code",
   "execution_count": null,
   "metadata": {},
   "outputs": [],
   "source": [
    "myEpoch = 100\n",
    "saver.restore(sess, 'checkpoints/nn_binary_classifcation.ckpt-{}'.format(myEpoch))\n",
    "plot_model(sess, yhat, xy_train, labels_train, xy_test, labels_test, f_fn, 'Epoch={}'.format(myEpoch))"
   ]
  },
  {
   "cell_type": "code",
   "execution_count": null,
   "metadata": {},
   "outputs": [],
   "source": [
    "myEpoch = 400\n",
    "saver.restore(sess, 'checkpoints/nn_binary_classifcation.ckpt-{}'.format(myEpoch))\n",
    "plot_model(sess, yhat, xy_train, labels_train, xy_test, labels_test, f_fn, 'Epoch={}'.format(myEpoch))"
   ]
  },
  {
   "cell_type": "code",
   "execution_count": null,
   "metadata": {},
   "outputs": [],
   "source": [
    "myEpoch = 800\n",
    "saver.restore(sess, 'checkpoints/nn_binary_classifcation.ckpt-{}'.format(myEpoch))\n",
    "plot_model(sess, yhat, xy_train, labels_train, xy_test, labels_test, f_fn, 'Epoch={}'.format(myEpoch))"
   ]
  },
  {
   "cell_type": "code",
   "execution_count": null,
   "metadata": {},
   "outputs": [],
   "source": [
    "myEpoch = 1200\n",
    "saver.restore(sess, 'checkpoints/nn_binary_classifcation.ckpt-{}'.format(myEpoch))\n",
    "plot_model(sess, yhat, xy_train, labels_train, xy_test, labels_test, f_fn, 'Epoch={}'.format(myEpoch))"
   ]
  },
  {
   "cell_type": "code",
   "execution_count": null,
   "metadata": {},
   "outputs": [],
   "source": []
  }
 ],
 "metadata": {
  "kernelspec": {
   "display_name": "Python 3",
   "language": "python",
   "name": "python3"
  },
  "language_info": {
   "codemirror_mode": {
    "name": "ipython",
    "version": 3
   },
   "file_extension": ".py",
   "mimetype": "text/x-python",
   "name": "python",
   "nbconvert_exporter": "python",
   "pygments_lexer": "ipython3",
   "version": "3.5.6"
  }
 },
 "nbformat": 4,
 "nbformat_minor": 2
}
